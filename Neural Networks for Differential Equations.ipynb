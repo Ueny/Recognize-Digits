{
 "cells": [
  {
   "cell_type": "markdown",
   "metadata": {},
   "source": [
    "reference: https://towardsdatascience.com/how-to-solve-an-ode-with-a-neural-network-917d11918932"
   ]
  },
  {
   "cell_type": "code",
   "execution_count": 46,
   "metadata": {},
   "outputs": [],
   "source": [
    "from jax import vmap, grad, jit, random\n",
    "import jax.numpy as np\n",
    "import matplotlib.pyplot as plt"
   ]
  },
  {
   "cell_type": "code",
   "execution_count": 47,
   "metadata": {},
   "outputs": [],
   "source": [
    "def sigmoid(x):\n",
    "    return 1./(1. + np.exp(-x))\n",
    "\n",
    "def f(params, x):\n",
    "    w0 = params[:10]\n",
    "    b0 = params[10:20]\n",
    "    w1 = params[20:30]\n",
    "    b1 = params[30]\n",
    "    x = sigmoid(x*w0 + b0)\n",
    "    x = sigmoid(np.sum(x*w1) + b1)\n",
    "    return x"
   ]
  },
  {
   "cell_type": "code",
   "execution_count": 48,
   "metadata": {},
   "outputs": [],
   "source": [
    "f_vect = vmap(f, (None, 0))\n",
    "g_vect = vmap(grad(f, 1), (None, 0))\n",
    "\n",
    "key = random.PRNGKey(0)\n",
    "params = random.normal(key, shape=(31,))\n",
    "\n",
    "dfdx = grad(f, 1)\n",
    "\n",
    "inputs = np.linspace(-2., 2., num=401)\n",
    "\n",
    "dfdx_vect = vmap(dfdx, (None, 0))"
   ]
  },
  {
   "cell_type": "code",
   "execution_count": 49,
   "metadata": {},
   "outputs": [],
   "source": [
    "@jit\n",
    "def loss(params, inputs):\n",
    "    eq = dfdx_vect(params, inputs) + 2.*inputs*f_vect(params, inputs)\n",
    "    ic = f(params, 0.) - 1.\n",
    "    return np.mean(eq**2) + ic**2"
   ]
  },
  {
   "cell_type": "code",
   "execution_count": 50,
   "metadata": {},
   "outputs": [],
   "source": [
    "grad_loss = jit(grad(loss, 0))"
   ]
  },
  {
   "cell_type": "code",
   "execution_count": 51,
   "metadata": {},
   "outputs": [
    {
     "name": "stdout",
     "output_type": "stream",
     "text": [
      "epoch:   0 loss: 0.954726\n",
      "epoch: 100 loss: 0.061131\n",
      "epoch: 200 loss: 0.024128\n",
      "epoch: 300 loss: 0.008868\n",
      "epoch: 400 loss: 0.003202\n",
      "epoch: 500 loss: 0.001567\n",
      "epoch: 600 loss: 0.000880\n",
      "epoch: 700 loss: 0.000505\n",
      "epoch: 800 loss: 0.000306\n",
      "epoch: 900 loss: 0.000224\n"
     ]
    }
   ],
   "source": [
    "epochs = 1000\n",
    "learning_rate = 0.1\n",
    "momentum = 0.99\n",
    "velocity = 0.\n",
    "\n",
    "for epoch in range(epochs):\n",
    "    if epoch % 100 == 0:\n",
    "        print('epoch: %3d loss: %.6f' % (epoch, loss(params, inputs)))\n",
    "    gradient = grad_loss(params + momentum*velocity, inputs)\n",
    "    velocity = momentum*velocity - learning_rate*gradient\n",
    "    params += velocity"
   ]
  },
  {
   "cell_type": "code",
   "execution_count": 56,
   "metadata": {},
   "outputs": [
    {
     "data": {
      "image/png": "[encoded data removed]",
      "text/plain": [
       "<Figure size 432x288 with 1 Axes>"
      ]
     },
     "metadata": {
      "needs_background": "light"
     },
     "output_type": "display_data"
    }
   ],
   "source": [
    "plt.plot(inputs, np.exp(-inputs**2), alpha=0.5, label='exact')\n",
    "plt.plot(inputs, f_vect(params, inputs), alpha=0.5, label='approx')\n",
    "plt.legend()\n",
    "plt.show()"
   ]
  },
  {
   "cell_type": "code",
   "execution_count": null,
   "metadata": {},
   "outputs": [],
   "source": []
  }
 ],
 "metadata": {
  "kernelspec": {
   "display_name": "Python 3",
   "language": "python",
   "name": "python3"
  },
  "language_info": {
   "codemirror_mode": {
    "name": "ipython",
    "version": 3
   },
   "file_extension": ".py",
   "mimetype": "text/x-python",
   "name": "python",
   "nbconvert_exporter": "python",
   "pygments_lexer": "ipython3",
   "version": "3.7.4"
  }
 },
 "nbformat": 4,
 "nbformat_minor": 2
}
